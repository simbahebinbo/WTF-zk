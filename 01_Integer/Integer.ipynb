{
 "cells": [
  {
   "cell_type": "code",
   "id": "4b4a18e3",
   "metadata": {
    "ExecuteTime": {
     "end_time": "2024-10-04T07:53:01.910031Z",
     "start_time": "2024-10-04T07:53:01.905370Z"
    }
   },
   "source": [
    "a, b = 7, 5\n",
    "sum_result = a + b\n",
    "print(f'Addition example: {sum_result}')\n"
   ],
   "outputs": [
    {
     "name": "stdout",
     "output_type": "stream",
     "text": [
      "Addition example: 12\n"
     ]
    }
   ],
   "execution_count": 1
  },
  {
   "cell_type": "code",
   "id": "eabe9790",
   "metadata": {
    "ExecuteTime": {
     "end_time": "2024-10-04T07:53:04.489257Z",
     "start_time": "2024-10-04T07:53:04.486364Z"
    }
   },
   "source": [
    "diff_result = a - b\n",
    "print(f'Subtraction example: {diff_result}')\n"
   ],
   "outputs": [
    {
     "name": "stdout",
     "output_type": "stream",
     "text": [
      "Subtraction example: 2\n"
     ]
    }
   ],
   "execution_count": 2
  },
  {
   "cell_type": "code",
   "id": "b695268e",
   "metadata": {
    "ExecuteTime": {
     "end_time": "2024-10-04T07:53:07.821142Z",
     "start_time": "2024-10-04T07:53:07.817436Z"
    }
   },
   "source": [
    "product_result = a * b\n",
    "print(f'Multiplication example: {product_result}')\n"
   ],
   "outputs": [
    {
     "name": "stdout",
     "output_type": "stream",
     "text": [
      "Multiplication example: 35\n"
     ]
    }
   ],
   "execution_count": 3
  },
  {
   "cell_type": "code",
   "id": "9ff1c6e1",
   "metadata": {
    "ExecuteTime": {
     "end_time": "2024-10-04T07:53:30.440541Z",
     "start_time": "2024-10-04T07:53:30.436216Z"
    }
   },
   "source": [
    "\n",
    "def euclidean_division(a, b):\n",
    "    quotient, remainder = divmod(a, b)\n",
    "    if remainder < 0:\n",
    "        # 调整余数确保非负\n",
    "        remainder += abs(b)\n",
    "        # 调整商使等式仍然成立\n",
    "        quotient += 1\n",
    "    return quotient, remainder\n",
    "\n",
    "quotient, remainder = euclidean_division(a, b)\n",
    "print(f'Division example: quotient is {quotient}, remainder is {remainder}')\n"
   ],
   "outputs": [
    {
     "name": "stdout",
     "output_type": "stream",
     "text": [
      "Division example: quotient is 1, remainder is 2\n"
     ]
    }
   ],
   "execution_count": 4
  },
  {
   "cell_type": "code",
   "id": "947c925c",
   "metadata": {
    "ExecuteTime": {
     "end_time": "2024-10-04T07:54:43.639600Z",
     "start_time": "2024-10-04T07:54:43.636227Z"
    }
   },
   "source": [
    "print(3 % -2) # 3 - (3//(-2) * -2) = -1\n",
    "print(3 // -2)"
   ],
   "outputs": [
    {
     "name": "stdout",
     "output_type": "stream",
     "text": [
      "-1\n",
      "-2\n"
     ]
    }
   ],
   "execution_count": 5
  }
 ],
 "metadata": {
  "kernelspec": {
   "display_name": "Python 3 (ipykernel)",
   "language": "python",
   "name": "python3"
  },
  "language_info": {
   "codemirror_mode": {
    "name": "ipython",
    "version": 3
   },
   "file_extension": ".py",
   "mimetype": "text/x-python",
   "name": "python",
   "nbconvert_exporter": "python",
   "pygments_lexer": "ipython3",
   "version": "3.9.13"
  }
 },
 "nbformat": 4,
 "nbformat_minor": 5
}
