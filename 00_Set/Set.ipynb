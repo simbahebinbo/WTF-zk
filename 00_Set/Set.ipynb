{
 "cells": [
  {
   "metadata": {
    "ExecuteTime": {
     "end_time": "2024-10-04T07:12:19.352397Z",
     "start_time": "2024-10-04T07:12:19.348828Z"
    }
   },
   "cell_type": "code",
   "source": [
    "S = {1, 1, 2}\n",
    "for elem in S:\n",
    "    print(elem)"
   ],
   "outputs": [
    {
     "name": "stdout",
     "output_type": "stream",
     "text": [
      "1\n",
      "2\n"
     ]
    }
   ],
   "execution_count": 3
  },
  {
   "cell_type": "code",
   "metadata": {
    "ExecuteTime": {
     "end_time": "2024-10-04T07:13:31.823073Z",
     "start_time": "2024-10-04T07:13:31.819253Z"
    }
   },
   "source": [
    "# 集合定义\n",
    "S = {'0xaa', 123, 'a', 0.123}\n",
    "\n",
    "# 确定性, 互异性，无序性\n",
    "for elem in S:\n",
    "    print(elem)"
   ],
   "outputs": [
    {
     "name": "stdout",
     "output_type": "stream",
     "text": [
      "0.123\n",
      "a\n",
      "0xaa\n",
      "123\n"
     ]
    }
   ],
   "execution_count": 6
  },
  {
   "cell_type": "code",
   "metadata": {
    "ExecuteTime": {
     "end_time": "2024-09-30T10:30:50.404457Z",
     "start_time": "2024-09-30T10:30:50.401040Z"
    }
   },
   "source": [
    "# 求基数\n",
    "S = {'0xaa', 123, 'a', 0.123}\n",
    "print(f'集合S的基数为：{len(S)}')"
   ],
   "outputs": [
    {
     "name": "stdout",
     "output_type": "stream",
     "text": [
      "集合S的基数为：4\n"
     ]
    }
   ],
   "execution_count": 26
  },
  {
   "cell_type": "code",
   "metadata": {
    "ExecuteTime": {
     "end_time": "2024-09-30T10:31:02.579429Z",
     "start_time": "2024-09-30T10:31:02.576902Z"
    }
   },
   "source": [
    "# 判断元素是否属于集合\n",
    "S = {'0xaa', 123, 'a', 0.123}\n",
    "if \"0xaa\" in S:\n",
    "    print(f'\"0xaa\" in S')\n",
    "else:\n",
    "    print(\"Nope\")"
   ],
   "outputs": [
    {
     "name": "stdout",
     "output_type": "stream",
     "text": [
      "\"0xaa\" in S\n"
     ]
    }
   ],
   "execution_count": 27
  },
  {
   "cell_type": "code",
   "metadata": {
    "ExecuteTime": {
     "end_time": "2024-09-30T10:31:50.856070Z",
     "start_time": "2024-09-30T10:31:50.852920Z"
    }
   },
   "source": [
    "# 集合之间的运算\n",
    "s1 = {1, 2, 3, 4, \"0xaa\"}\n",
    "s2 = {3, 4, 5, 6, \"0xbb\"}\n",
    "\n",
    "## 求差集\n",
    "print(f's1 和 s2 的差集为 {s1.difference(s2)}')\n",
    "print(f's2 和 s1 的差集为 {s2.difference(s1)}')\n",
    "\n",
    "## 求交集\n",
    "print(f's1 和 s2 的交集为 {s1.intersection(s2)}')\n",
    "\n",
    "## 求并集\n",
    "print(f's1 和 s2 的并集为 {s1.union(s2)}')"
   ],
   "outputs": [
    {
     "name": "stdout",
     "output_type": "stream",
     "text": [
      "s1 和 s2 的差集为 {1, 2, '0xaa'}\n",
      "s2 和 s1 的差集为 {'0xbb', 5, 6}\n",
      "s1 和 s2 的交集为 {3, 4}\n",
      "s1 和 s2 的并集为 {1, 2, 3, 4, 5, 6, '0xbb', '0xaa'}\n"
     ]
    }
   ],
   "execution_count": 29
  },
  {
   "cell_type": "code",
   "metadata": {
    "ExecuteTime": {
     "end_time": "2024-10-04T07:29:52.730213Z",
     "start_time": "2024-10-04T07:29:52.727018Z"
    }
   },
   "source": [
    "# 元组有序\n",
    "S = ('0xaa', 123, 'a', 0.123)\n",
    "for i in S:\n",
    "    print(i)"
   ],
   "outputs": [
    {
     "name": "stdout",
     "output_type": "stream",
     "text": [
      "0xaa\n",
      "123\n",
      "a\n",
      "0.123\n"
     ]
    }
   ],
   "execution_count": 7
  },
  {
   "cell_type": "code",
   "metadata": {
    "ExecuteTime": {
     "end_time": "2024-09-30T10:29:55.905030Z",
     "start_time": "2024-09-30T10:29:55.897426Z"
    }
   },
   "source": [
    "# 求笛卡尔积\n",
    "import itertools\n",
    "\n",
    "s1 = {1, 2, 3, 4, \"0xaa\"}\n",
    "s2 = {3, 4, 5, 6, \"0xbb\"}\n",
    "\n",
    "s = itertools.product(s1, s2)\n",
    "print(f's1 和 s2 的笛卡尔积为:')\n",
    "for i in s:\n",
    "    print(i)"
   ],
   "outputs": [
    {
     "name": "stdout",
     "output_type": "stream",
     "text": [
      "s1 和 s2 的笛卡尔积为:\n",
      "(1, 3)\n",
      "(1, 4)\n",
      "(1, 5)\n",
      "(1, 6)\n",
      "(1, '0xbb')\n",
      "(2, 3)\n",
      "(2, 4)\n",
      "(2, 5)\n",
      "(2, 6)\n",
      "(2, '0xbb')\n",
      "(3, 3)\n",
      "(3, 4)\n",
      "(3, 5)\n",
      "(3, 6)\n",
      "(3, '0xbb')\n",
      "(4, 3)\n",
      "(4, 4)\n",
      "(4, 5)\n",
      "(4, 6)\n",
      "(4, '0xbb')\n",
      "('0xaa', 3)\n",
      "('0xaa', 4)\n",
      "('0xaa', 5)\n",
      "('0xaa', 6)\n",
      "('0xaa', '0xbb')\n"
     ]
    }
   ],
   "execution_count": 22
  }
 ],
 "metadata": {
  "kernelspec": {
   "display_name": "base",
   "language": "python",
   "name": "python3"
  },
  "language_info": {
   "codemirror_mode": {
    "name": "ipython",
    "version": 3
   },
   "file_extension": ".py",
   "mimetype": "text/x-python",
   "name": "python",
   "nbconvert_exporter": "python",
   "pygments_lexer": "ipython3",
   "version": "3.11.5"
  }
 },
 "nbformat": 4,
 "nbformat_minor": 2
}
